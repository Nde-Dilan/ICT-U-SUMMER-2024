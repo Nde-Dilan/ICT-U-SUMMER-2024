{
  "cells": [
    {
      "cell_type": "markdown",
      "source": [
        "**Important Notice:**\n",
        "\n",
        "To have your assignment considered, include the following information in all submitted assignments:\n",
        "\n",
        "* Full Name: NDE HURICH DILAN\n",
        "* Student ID: ICTU20223351\n",
        "\n",
        "Note: Do not alter the structure of this document. Enter your solution in the designated sections for exercises of this notebook."
      ],
      "metadata": {
        "id": "oQXbj2qGSRcV"
      },
      "id": "oQXbj2qGSRcV"
    },
    {
      "cell_type": "markdown",
      "source": [
        "# Variable, Printing, Input in Python\n",
        "In this section of the course, we'll cover fundamental aspects of Python programming for data science, including variables, print and input functions, and variable naming conventions."
      ],
      "metadata": {
        "id": "b6oL_r-69ZPv"
      },
      "id": "b6oL_r-69ZPv"
    },
    {
      "cell_type": "markdown",
      "source": [
        "## About the course and Author\n",
        "\n",
        "This course \"**Introduction to Data Science with Python**\" provides an introduction to Data Science using Python. You will learn fundamental concepts of Python programming that are essential for developing data-oriented applications, including data cleanup, exploration, visualization, and analysis using artificial intelligence such as machine learning and deep learning.\n",
        "\n",
        "---\n",
        "\n",
        "**About the Author:**\n",
        "\n",
        "* Dr.-Ing. Philippe Tamla\n",
        "* Visiting Professor at ICT university for Data Science and AI\n",
        "* Senior Researcher in NLP and AI at FernUni Hagen/Germany\n",
        "* Contact: philiptamla@gmail.com or tamlatraining@gmail.com\n",
        "* WhatsApp: +49 176 721 990 23\n",
        "\n",
        "Copyright: All rights reserved\n",
        "\n",
        "---\n",
        "Please note that this course provides only an introduction to data science topics. For deeper insights, please refer to other resources such as:\n",
        "\n",
        "* [Official Python Tutorial](https://docs.python.org/3/tutorial/index.html)\n",
        "* Python for Data Science: A Hands-On by Yuli Vasiliev 2022, [Amazon Link](https://www.amazon.de/-/en/Yuli-Vasiliev/dp/1718502206)\n",
        "* Python for Data Analysis by Wes McKinney 2013 - free PDF book accessible [here](https://bedford-computing.co.uk/learning/wp-content/uploads/2015/10/Python-for-Data-Analysis.pdf)\n",
        "* Introduction to Machine Learning with Python by Andreas C. Müller & Sarah Guido - free PDF book accessible [here](https://www.nrigroupindia.com/e-book/Introduction%20to%20Machine%20Learning%20with%20Python%20(%20PDFDrive.com%20)-min.pdf)"
      ],
      "metadata": {
        "id": "u-AVY5fu8LOv"
      },
      "id": "u-AVY5fu8LOv"
    },
    {
      "cell_type": "markdown",
      "id": "a5e7964d",
      "metadata": {
        "jp-MarkdownHeadingCollapsed": true,
        "id": "a5e7964d"
      },
      "source": [
        "# Printing Text with Python\n",
        "The `print()` function in Python is used to display text or variables in the console. It is a fundamental function for outputting information during program execution.\n",
        "\n",
        "The basic print statement is one of the simplest yet most essential functions in Python. It allows you to display text or variables in the console.\n",
        "\n",
        "Example:"
      ]
    },
    {
      "cell_type": "code",
      "source": [
        "print(\"Hello World!\")"
      ],
      "metadata": {
        "id": "UkYIYKxSfYlx",
        "outputId": "06ceb600-6623-48dd-d7a3-da39843dde44",
        "colab": {
          "base_uri": "https://localhost:8080/"
        }
      },
      "id": "UkYIYKxSfYlx",
      "execution_count": 1,
      "outputs": [
        {
          "output_type": "stream",
          "name": "stdout",
          "text": [
            "Hello World!\n"
          ]
        }
      ]
    },
    {
      "cell_type": "markdown",
      "id": "189df641",
      "metadata": {
        "id": "189df641"
      },
      "source": [
        "## Printing with Single Quotes\n",
        "You can use single quotes `'...'` within the print statement to output text containing double quotes.\n",
        "\n",
        "Example:"
      ]
    },
    {
      "cell_type": "code",
      "execution_count": null,
      "id": "773f1984",
      "metadata": {
        "id": "773f1984"
      },
      "outputs": [],
      "source": [
        "print('Hello \"World\"') # Will output: Hello \"World\""
      ]
    },
    {
      "cell_type": "markdown",
      "id": "e6608c14",
      "metadata": {
        "id": "e6608c14"
      },
      "source": [
        "# String Concatenation\n",
        "Concatenation allows you to combine multiple strings into a single string using the ``+`` operator.\n",
        "\n",
        "**Example:**"
      ]
    },
    {
      "cell_type": "code",
      "execution_count": null,
      "id": "5b659fca",
      "metadata": {
        "id": "5b659fca"
      },
      "outputs": [],
      "source": [
        "print(\"Hello\" + \" \" + \"Angela\")"
      ]
    },
    {
      "cell_type": "markdown",
      "id": "fce15f01",
      "metadata": {
        "id": "fce15f01"
      },
      "source": [
        "# Input Function\n",
        "The `input()` function prompts the user to enter a value, which is then returned as a string.\n",
        "\n",
        "**Example:**"
      ]
    },
    {
      "cell_type": "code",
      "source": [
        "input(\"What is your name? \") # Prompting user for input"
      ],
      "metadata": {
        "id": "Cc_Xh0mhhCan"
      },
      "id": "Cc_Xh0mhhCan",
      "execution_count": null,
      "outputs": []
    },
    {
      "cell_type": "markdown",
      "id": "b1a99d44-6275-4279-aaf0-bbdb1da5f7ed",
      "metadata": {
        "id": "b1a99d44-6275-4279-aaf0-bbdb1da5f7ed"
      },
      "source": [
        "# Python Variables\n",
        "Variables is Python are  symbolic names referring to values stored in computer's memory. They store data that can be manipulated and referenced in a program.\n",
        "\n",
        "We can use a variable called `name` to store the value of the user input as follows:"
      ]
    },
    {
      "cell_type": "markdown",
      "id": "60c465cf-1442-41b9-ad34-c774e007b2b1",
      "metadata": {
        "id": "60c465cf-1442-41b9-ad34-c774e007b2b1"
      },
      "source": [
        "## Coding Exercises\n",
        "Let's test your knowledge on using the Python `print()` using the following coding exercises."
      ]
    },
    {
      "cell_type": "markdown",
      "id": "cb8c6319",
      "metadata": {
        "id": "cb8c6319"
      },
      "source": [
        "**Exercise 1: Multiply Two Numbers:**\n",
        "\n",
        "Write a Python program that takes two integer numbers as input, multiplies them, and prints the result in the console."
      ]
    },
    {
      "cell_type": "code",
      "source": [
        "# Write your solution below this line 👇:\n",
        "def multiply(a,b):\n",
        "  return a*b\n",
        "\n",
        "multiply(2,9)"
      ],
      "metadata": {
        "id": "Xw8Cwe7dgK-z",
        "outputId": "d9403be9-75f4-4051-d6aa-b7ae9d5a6e66",
        "colab": {
          "base_uri": "https://localhost:8080/"
        }
      },
      "id": "Xw8Cwe7dgK-z",
      "execution_count": 2,
      "outputs": [
        {
          "output_type": "execute_result",
          "data": {
            "text/plain": [
              "18"
            ]
          },
          "metadata": {},
          "execution_count": 2
        }
      ]
    },
    {
      "cell_type": "markdown",
      "id": "6b469ee4-58d4-4685-ba1d-6f2baa3bc0bb",
      "metadata": {
        "id": "6b469ee4-58d4-4685-ba1d-6f2baa3bc0bb"
      },
      "source": [
        "**Exercise 2: Calculate Length of Name:**\n",
        "\n",
        "- Write a Python program that prompts the user to enter their name using the `input()` function.\n",
        "- Then, calculate the length of the entered name using the `len()` function.\n",
        "- Define two variables to hold information about the name and its length.\n",
        "- Finally, print the length of the name as follows.\n",
        "- Example output: `The length of the name \"Paul\" is 4.`"
      ]
    },
    {
      "cell_type": "code",
      "source": [
        "# Write your solution below this line 👇:\n",
        "name = input(\"Please enter your name:  \")\n",
        "\n",
        "length = len(name)\n",
        "\n",
        "print(f'The length of the name {name} is {length}')"
      ],
      "metadata": {
        "id": "P4huBLuAgQLx",
        "outputId": "df5ee364-d200-4585-cbc7-8dbc5eded72f",
        "colab": {
          "base_uri": "https://localhost:8080/"
        }
      },
      "id": "P4huBLuAgQLx",
      "execution_count": 3,
      "outputs": [
        {
          "output_type": "stream",
          "name": "stdout",
          "text": [
            "Please enter your nameDilan\n",
            "The length of the name Dilan is 5\n"
          ]
        }
      ]
    },
    {
      "cell_type": "markdown",
      "id": "f509672f-e1a2-4788-ade9-6c8b2d2bf2d1",
      "metadata": {
        "id": "f509672f-e1a2-4788-ade9-6c8b2d2bf2d1"
      },
      "source": [
        "**Exercise 3: Switch Values of Two Variables:**\n",
        "\n",
        "Write a program that **switches** the values stored in the variables `a` and `b`.\n",
        "\n",
        "**Template Code:**"
      ]
    },
    {
      "cell_type": "code",
      "source": [
        "a = input(\"Enter your first value\")\n",
        "b = input(\"Enter your second value\")\n",
        "\n",
        "# Write your code below this line 👇\n",
        "a,b=b,a\n",
        "\n",
        "# 🚨 Don't change the code below 👇\n",
        "print(\"a: \" + a)\n",
        "print(\"b: \" + b)"
      ],
      "metadata": {
        "id": "8Y3_h9Rdg4tX",
        "outputId": "304c1a49-46cc-4dbe-d2b1-fe5323c70944",
        "colab": {
          "base_uri": "https://localhost:8080/"
        }
      },
      "id": "8Y3_h9Rdg4tX",
      "execution_count": 4,
      "outputs": [
        {
          "output_type": "stream",
          "name": "stdout",
          "text": [
            "Enter your first value4\n",
            "Enter your second value8\n",
            "a: 8\n",
            "b: 4\n"
          ]
        }
      ]
    },
    {
      "cell_type": "markdown",
      "id": "cdcad151-36e5-490b-9ac9-d4029257fe97",
      "metadata": {
        "id": "cdcad151-36e5-490b-9ac9-d4029257fe97"
      },
      "source": [
        "## Naming Variables\n",
        "In Python, variable names serve as symbolic references to values stored in memory. Following certain rules and conventions will ensure clarity and maintainability in code.\n",
        "\n",
        "- Variable names can include letters (a-z, A-Z), digits (0-9), and underscores (_).\n",
        "- They must begin with a letter (a-z, A-Z) or an underscore (_), not a digit.\n",
        "- Variable names are case-sensitive.\n",
        "- Python keywords (reserved words) like `if, else, for, while, import`, etc., cannot be used as variable names.\n",
        "- Use **descriptive** and **meaningful** variable names to enhance code readability and maintainability.\n",
        "- Avoid single-letter variable names unless they are conventional, such as loop variables.\n",
        "- Follow the convention of using lowercase letters with underscores to separate words (snake_case) for variable names, e.g., first_name, total_amount, user_input, etc.\n",
        "- Consistency with naming conventions throughout your code or project makes it easier to understand and maintain.\n",
        "\n",
        "Refer to the official Python [naming conventions](https://peps.python.org/pep-0008/#naming-conventions) page for more information about variable names."
      ]
    }
  ],
  "metadata": {
    "kernelspec": {
      "display_name": "Python 3 (ipykernel)",
      "language": "python",
      "name": "python3"
    },
    "language_info": {
      "codemirror_mode": {
        "name": "ipython",
        "version": 3
      },
      "file_extension": ".py",
      "mimetype": "text/x-python",
      "name": "python",
      "nbconvert_exporter": "python",
      "pygments_lexer": "ipython3",
      "version": "3.11.7"
    },
    "colab": {
      "provenance": []
    }
  },
  "nbformat": 4,
  "nbformat_minor": 5
}