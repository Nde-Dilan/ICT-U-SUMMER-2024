{
  "cells": [
    {
      "cell_type": "markdown",
      "source": [
        "**Important Notice:**\n",
        "\n",
        "To have your assignment considered, include the following information in all submitted assignments:\n",
        "\n",
        "* Full Name: NDE HURICH DILAN\n",
        "* Student ID: ICTU20223351\n",
        "\n",
        "Note: Do not alter the structure of this document. Enter your solution in the designated sections for exercises of this notebook."
      ],
      "metadata": {
        "id": "rE62by_6QldK"
      },
      "id": "rE62by_6QldK"
    },
    {
      "cell_type": "markdown",
      "source": [
        "# Exploring Datatypes: String, Integer, Float, Boolean\n",
        " In this chapter, we'll explore fundamental programming elements in Python: `strings`, `integers`, `floats`, and `booleans`. Understanding these datatypes is essential for effective programming and lays the groundwork for advanced data manipulation and analysis."
      ],
      "metadata": {
        "id": "RpBEqy-X7Xpd"
      },
      "id": "RpBEqy-X7Xpd"
    },
    {
      "cell_type": "markdown",
      "source": [
        "## About the course and Author\n",
        "\n",
        "This course \"**Introduction to Data Science with Python**\" provides an introduction to Data Science using Python. You will learn fundamental concepts of Python programming that are essential for developing data-oriented applications, including data cleanup, exploration, visualization, and analysis using artificial intelligence such as machine learning and deep learning.\n",
        "\n",
        "---\n",
        "\n",
        "**About the Author:**\n",
        "\n",
        "* Dr.-Ing. Philippe Tamla\n",
        "* Visiting Professor at ICT university for Data Science and AI\n",
        "* Senior Researcher in NLP and AI at FernUni Hagen/Germany\n",
        "* Contact: philiptamla@gmail.com or tamlatraining@gmail.com\n",
        "* WhatsApp: +49 176 721 990 23\n",
        "\n",
        "Copyright: All rights reserved\n",
        "\n",
        "---\n",
        "Please note that this course provides only an introduction to data science topics. For deeper insights, please refer to other resources such as:\n",
        "\n",
        "* [Official Python Tutorial](https://docs.python.org/3/tutorial/index.html)\n",
        "* Python for Data Science: A Hands-On by Yuli Vasiliev 2022, [Amazon Link](https://www.amazon.de/-/en/Yuli-Vasiliev/dp/1718502206)\n",
        "* Python for Data Analysis by Wes McKinney 2013 - free PDF book accessible [here](https://bedford-computing.co.uk/learning/wp-content/uploads/2015/10/Python-for-Data-Analysis.pdf)\n",
        "* Introduction to Machine Learning with Python by Andreas C. Müller & Sarah Guido - free PDF book accessible [here](https://www.nrigroupindia.com/e-book/Introduction%20to%20Machine%20Learning%20with%20Python%20(%20PDFDrive.com%20)-min.pdf)"
      ],
      "metadata": {
        "id": "BLm-517k9izv"
      },
      "id": "BLm-517k9izv"
    },
    {
      "cell_type": "markdown",
      "id": "4414cbb7-4ee5-4ab5-a892-a491baab3186",
      "metadata": {
        "id": "4414cbb7-4ee5-4ab5-a892-a491baab3186"
      },
      "source": [
        "## Integer\n",
        "Integers are **whole numbers** with no decimal places. They are used to represent numeric data in programming.\n",
        "\n",
        "Large numbers can be defined using underscores (`_`) for better readability. You can use the `type()` function to determine the type of an expression.\n",
        "\n",
        "Example:"
      ]
    },
    {
      "cell_type": "code",
      "source": [
        "# Basic integer operations\n",
        "print(123 + 456)  # Output: 579\n",
        "\n",
        "# Large numbers with underscores\n",
        "print(123_456_789)  # Output: 123456789\n",
        "print(type(123_456_789))  # Output: <class 'int'> (integer data type)\n",
        "\n",
        "# Floating point number\n",
        "print(type(123_456.3))  # Output: <class 'float'> (float data type)"
      ],
      "metadata": {
        "colab": {
          "base_uri": "https://localhost:8080/"
        },
        "id": "M7cWpnkIIlhf",
        "outputId": "99f97813-863a-4362-add5-fe57cfd700cd"
      },
      "id": "M7cWpnkIIlhf",
      "execution_count": null,
      "outputs": [
        {
          "output_type": "stream",
          "name": "stdout",
          "text": [
            "579\n",
            "123456789\n",
            "<class 'int'>\n",
            "<class 'float'>\n"
          ]
        }
      ]
    },
    {
      "cell_type": "markdown",
      "id": "1120d80b-c37d-4807-a06b-86405b18cb58",
      "metadata": {
        "id": "1120d80b-c37d-4807-a06b-86405b18cb58"
      },
      "source": [
        "This example demonstrates basic operations with integers, including addition, and showcase the definition of large numbers using underscores. Additionally, it illustrates the use of the `type()` function to determine the data type of expressions, showcasing both integer and floating-point data types."
      ]
    },
    {
      "cell_type": "markdown",
      "id": "8bf2b58c-7d11-480d-a597-f2f4448abd72",
      "metadata": {
        "id": "8bf2b58c-7d11-480d-a597-f2f4448abd72"
      },
      "source": [
        "## Float\n",
        "Floats in Python are essential for representing decimal numbers in data science tasks. They offer precision and accuracy for statistical analyses, mathematical computations, and data manipulations. Floats can handle a wide range of values with high precision, making them indispensable for scientific and engineering applications, as well as tasks like modeling, visualization, and machine learning.\n",
        "\n",
        "Example:\n"
      ]
    },
    {
      "cell_type": "code",
      "source": [
        "# Define a float variable\n",
        "pi = 3.14159\n",
        "print(pi)  # Output: 3.14159\n",
        "print(type(pi))  # Output: <class 'float'> (float data type)"
      ],
      "metadata": {
        "id": "d13bBl3QvQJV"
      },
      "id": "d13bBl3QvQJV",
      "execution_count": null,
      "outputs": []
    },
    {
      "cell_type": "markdown",
      "id": "4b2a461e",
      "metadata": {
        "id": "4b2a461e"
      },
      "source": [
        "In this example, we define a float variable 'pi' to represent the mathematical constant `π (pi)`. We then print the value of 'pi' and use the `type()` function to confirm that it is indeed of the float data type."
      ]
    },
    {
      "cell_type": "code",
      "source": [
        "pi = 3.14159\n",
        "print(pi)\n",
        "print(type(pi))"
      ],
      "metadata": {
        "id": "-WzDKyrVvTEh"
      },
      "id": "-WzDKyrVvTEh",
      "execution_count": null,
      "outputs": []
    },
    {
      "cell_type": "markdown",
      "id": "36a1821a",
      "metadata": {
        "id": "36a1821a"
      },
      "source": [
        "## String\n",
        "Strings in programming represent sequences of characters. They are commonly used for representing text data and are enclosed within single quotes (`''`) or double quotes (`\"\"`). Here's a detailed description before showing code examples:\n",
        "\n",
        "A string can be accessed character by character using indexing or subscripting. Indexing starts from 0, where the first character has an index of 0, the second character has an index of 1, and so on. Subscripting consists of pulling out a particular element from a string.\n",
        "\n",
        "Example:"
      ]
    },
    {
      "cell_type": "code",
      "source": [
        "### Pull the first character\n",
        "print(\"Hello\"[0])\n",
        "### Pull the last character\n",
        "print(\"Hello\"[4])"
      ],
      "metadata": {
        "id": "oMBXHflAvVu5"
      },
      "id": "oMBXHflAvVu5",
      "execution_count": null,
      "outputs": []
    },
    {
      "cell_type": "markdown",
      "id": "744ee02c",
      "metadata": {
        "id": "744ee02c"
      },
      "source": [
        "### Immutable\n",
        "Strings are **immutable**, meaning they cannot be modified once created. However, methods like replace() can create modified copies."
      ]
    },
    {
      "cell_type": "code",
      "source": [
        "a = 'this is a string'\n",
        "# Trying to modify a string directly results in a TypeError\n",
        "a[10] = 'f'\n",
        "\n",
        "b = a.replace('string', 'longer string')\n",
        "# After this operation, variable a remains unmodified\n",
        "print(a)  # Output: 'this is a string'"
      ],
      "metadata": {
        "id": "L0kJFxmwohqz"
      },
      "id": "L0kJFxmwohqz",
      "execution_count": null,
      "outputs": []
    },
    {
      "cell_type": "markdown",
      "id": "4954a0b0",
      "metadata": {
        "id": "4954a0b0"
      },
      "source": [
        "You can convert many Python objects to strings using the `str()` function."
      ]
    },
    {
      "cell_type": "code",
      "source": [
        "a = 5.6\n",
        "s = str(a)\n",
        "print(s)  # Output: '5.6'"
      ],
      "metadata": {
        "id": "mk4kXxkZoluh"
      },
      "id": "mk4kXxkZoluh",
      "execution_count": null,
      "outputs": []
    },
    {
      "cell_type": "markdown",
      "id": "ddd54e6c",
      "metadata": {
        "id": "ddd54e6c"
      },
      "source": [
        "Strings are sequences of Unicode characters, so you can treat them like other sequences such as lists and tuples.\n",
        "```python\n",
        "s = 'python'\n",
        "print(list(s))  # Output: ['p', 'y', 't', 'h', 'o', 'n']\n",
        "print(s[:3])    # Output: 'pyt'"
      ]
    },
    {
      "cell_type": "markdown",
      "id": "eefcfce5",
      "metadata": {
        "id": "eefcfce5"
      },
      "source": [
        "### String Formatting\n",
        "Python provides various methods for string templating or formatting. One common method is using the format() method.\n",
        "\n",
        "Example:\n",
        "\n",
        "```python\n",
        "template = '{0:.2f} {1:s} are worth US${2:d}'\n",
        "template.format(4.5560, 'Argentine Pesos', 1)  # Returns formatted string\n"
      ]
    },
    {
      "cell_type": "markdown",
      "metadata": {
        "id": "ZVVF_VFtIc2Q"
      },
      "source": [
        "## Regular Expressions\n",
        "Regular expressions, or RegEx, are sequences of characters that define a search pattern. They are used for pattern matching within strings, allowing for complex search and replace operations. Python comes with a built-in package called `re` for working with Regular Expressions.\n",
        "\n",
        "```python\n",
        "import re\n",
        "```"
      ],
      "id": "ZVVF_VFtIc2Q"
    },
    {
      "cell_type": "markdown",
      "id": "04ae15e3",
      "metadata": {
        "id": "04ae15e3"
      },
      "source": [
        "Python provides various functions to perform operations like searching, splitting, and substitution within strings:\n",
        "\n",
        "- findall: Returns a list containing all matches.\n",
        "- search: Searches the string for a match and returns a match object if there is a match.\n",
        "- split: Splits the string at matches and returns a list.\n",
        "- sub: Replaces one or many matches with a specified value."
      ]
    },
    {
      "cell_type": "markdown",
      "id": "c51b27c3",
      "metadata": {
        "id": "c51b27c3"
      },
      "source": [
        "You can start using regular expressions by importing the re module. For instance, let's search a string to see if it **starts with** \"The\" and **ends with** \"Spain\".\n",
        "\n",
        "```python\n",
        "import re\n",
        "\n",
        "txt = \"The rain in Spain\"\n",
        "x = re.search(\"^The.*Spain$\", txt)\n",
        "```"
      ]
    },
    {
      "cell_type": "markdown",
      "id": "f736f5b2",
      "metadata": {
        "id": "f736f5b2"
      },
      "source": [
        "This next code example demonstrates how to use regular expressions to match **valid phone numbers** in the format **XXX-XXX-XXXX**, where X represents a digit.\n",
        "\n",
        "```python\n",
        "import re\n",
        "\n",
        "phone_numbers = [\"123-456-7890\", \"555-123-4567\", \"999-999-9999\"]\n",
        "\n",
        "for number in phone_numbers:\n",
        "    match = re.search(r\"\\d{3}-\\d{3}-\\d{4}\", number)\n",
        "    if match:\n",
        "        print(\"Valid phone number:\", match.group())\n",
        "    else:\n",
        "        print(\"Invalid phone number\")\n",
        "```\n",
        "\n"
      ]
    },
    {
      "cell_type": "markdown",
      "id": "8f9f4782",
      "metadata": {
        "id": "8f9f4782"
      },
      "source": [
        "### Metacharacters\n",
        "Metacharacters are special characters in regular expressions that have predefined meanings. They allow us to create complex search patterns to match specific sequences of characters within a string. Here are some common metacharacters and their meanings:\n",
        "\n",
        "- `^`: Indicates the start of the string.\n",
        "- `$`: Denotes the end of the string.\n",
        "- `*`: Matches zero or more occurrences of the preceding character.\n",
        "- `+`: Matches one or more occurrences of the preceding character.\n",
        "- `?`: Matches zero or one occurrence of the preceding character.\n",
        "- `.`: Matches any character except a newline."
      ]
    },
    {
      "cell_type": "markdown",
      "source": [
        "Let's illustrate the usage of these metacharacters with examples:"
      ],
      "metadata": {
        "id": "T4QO3-bLo0gw"
      },
      "id": "T4QO3-bLo0gw"
    },
    {
      "cell_type": "code",
      "source": [
        "# Match start of String with `^`\n",
        "import re\n",
        "\n",
        "pattern_start = \"^hello\"\n",
        "string_start = \"hello world\"\n",
        "match_start = re.search(pattern_start, string_start)\n",
        "if match_start:\n",
        "    print(\"Match found for ^:\", match_start.group())\n",
        "else:\n",
        "    print(\"No match found for ^\")"
      ],
      "metadata": {
        "id": "UkSqrpJPozRo"
      },
      "id": "UkSqrpJPozRo",
      "execution_count": null,
      "outputs": []
    },
    {
      "cell_type": "code",
      "source": [
        "# Match end of String with `$`\n",
        "pattern_end = \"world$\"\n",
        "string_end = \"hello world\"\n",
        "match_end = re.search(pattern_end, string_end)\n",
        "if match_end:\n",
        "    print(\"Match found for $:\", match_end.group())\n",
        "else:\n",
        "    print(\"No match found for $\")"
      ],
      "metadata": {
        "id": "jT9GqwScpKZS"
      },
      "id": "jT9GqwScpKZS",
      "execution_count": null,
      "outputs": []
    },
    {
      "cell_type": "markdown",
      "id": "05540ca3",
      "metadata": {
        "id": "05540ca3"
      },
      "source": [
        "### Special Characters\n",
        "Special sequences represent specific patterns within strings and are preceded by a backslash `\\`. Examples include `\\d`, `\\w`, `\\s`, `\\b`, `\\A`, `\\Z`, etc.\n",
        "\n",
        "- `\\d`: Matches any digit character (equivalent to [0-9]).\n",
        "- `\\w`: Matches any alphanumeric character (equivalent to [a-zA-Z0-9_]).\n",
        "- `\\s`: Matches any whitespace character (space, tab, newline, etc.).\n",
        "- `\\b`: Matches the empty string at the beginning or end of a word. It represents a word boundary.\n",
        "- `\\A`: Matches the beginning of a string.\n",
        "- `\\Z`: Matches the end of a string.\n",
        "\n",
        "Let's illustrate the usage of these special characters with examples:"
      ]
    },
    {
      "cell_type": "code",
      "source": [
        "import re\n",
        "\n",
        "input_string = \"ab234c#\"\n",
        "# Match any digit character (0-9)\n",
        "match = re.search(\"\\d\", input_string)\n",
        "if match:\n",
        "    print(\"Match found:\", match.group()) # return the first digit found in the input\n",
        "\n",
        "# Find all digit characters using re.findall()\n",
        "found_digits = re.findall(r'\\d', input_string)\n",
        "\n",
        "# Print the list of found digits\n",
        "print(\"Found digits:\", found_digits)"
      ],
      "metadata": {
        "colab": {
          "base_uri": "https://localhost:8080/"
        },
        "id": "vZE8aCzIowuR",
        "outputId": "bdd1c6ee-f49d-40a0-fd75-778bdb4b7d0b"
      },
      "id": "vZE8aCzIowuR",
      "execution_count": null,
      "outputs": [
        {
          "output_type": "stream",
          "name": "stdout",
          "text": [
            "Match found: 2\n",
            "Found digits: ['2', '3', '4']\n"
          ]
        }
      ]
    },
    {
      "cell_type": "code",
      "source": [
        "# Match any alphanumeric character\n",
        "match = re.search(\"\\w\", \"abc123\")\n",
        "if match:\n",
        "    print(\"Match found:\", match.group())"
      ],
      "metadata": {
        "id": "7bfN_-yzowix"
      },
      "id": "7bfN_-yzowix",
      "execution_count": null,
      "outputs": []
    },
    {
      "cell_type": "code",
      "source": [
        "# Match the end of a string\n",
        "match = re.search(\"world\\Z\", \"hello world\")\n",
        "if match:\n",
        "    print(\"Match found:\", match.group())"
      ],
      "metadata": {
        "id": "H8MPafJzpcN5"
      },
      "id": "H8MPafJzpcN5",
      "execution_count": null,
      "outputs": []
    },
    {
      "cell_type": "markdown",
      "id": "446197f6",
      "metadata": {
        "id": "446197f6"
      },
      "source": [
        "### Sets\n",
        "A set is a set of characters inside a pair of square brackets [] with a special meaning. For instance, they allow you to define a specific set of characters that you want to match in a string:\n",
        "\n",
        "| Set        | Description                                                                                 |\n",
        "|------------|---------------------------------------------------------------------------------------------|\n",
        "| [`arn`]      | Returns a match where one of the specified characters (a, r, or n) is present               |\n",
        "| [`a-n`]      | Returns a match for any lowercase character alphabetically between a and n                   |\n",
        "| [`^arn`]     | Returns a match for any character EXCEPT a, r, and n                                         |\n",
        "| [`0123`]     | Returns a match where any of the specified digits (0, 1, 2, or 3) are present                |\n",
        "| [`0-9`]      | Returns a match for any digit between 0 and 9                                                 |\n",
        "| [`0-5`][`0-9`] | Returns a match for any two-digit numbers from 00 and 59                                      |\n",
        "| [`a-zA-Z`]   | Returns a match for any character alphabetically between a and z, lowercase OR uppercase     |\n",
        "| [`+`]        | In `sets`, `+`, `*`, `.`, `|`, `()`, `$`,`{}` has no special meaning, so [`+`] means: return a match for any `+` character |\n",
        "\n",
        "Here's a breakdown of the examples:\n",
        "\n",
        "\n",
        "```python\n",
        "import re\n",
        "\n",
        "# Sample string\n",
        "text = \"The quick brown fox jumps over the lazy dog.\"\n",
        "\n",
        "# Match any lowercase character between 'a' and 'n'\n",
        "match1 = re.search(r\"[a-n]\", text)\n",
        "if match1:\n",
        "    print(\"Match 1:\", match1.group())\n",
        "\n",
        "# Match any digit between 0 and 5\n",
        "match2 = re.search(r\"[0-5]\", text)\n",
        "if match2:\n",
        "    print(\"Match 2:\", match2.group())\n",
        "\n",
        "# Match any two-digit number from 00 to 59\n",
        "match3 = re.search(r\"[0-5][0-9]\", text)\n",
        "if match3:\n",
        "    print(\"Match 3:\", match3.group())\n",
        "\n",
        "# Match any '+' character\n",
        "match4 = re.search(r\"[+]\", text)\n",
        "if match4:\n",
        "    print(\"Match 4:\", match4.group())\n",
        "\n",
        "```"
      ]
    },
    {
      "cell_type": "markdown",
      "id": "889667bd",
      "metadata": {
        "id": "889667bd"
      },
      "source": [
        "## Boolean Type - bool\n",
        "Booleans represent truth values, with `True` and `False` as the two constant instances of the bool type.\n",
        "The built-in function `bool()` can convert any value to a boolean if it can be interpreted as a truth value.\n",
        "For logical operations, use the boolean operators `and`, `or`, and `not`. These operators help combine or negate boolean values. The bitwise operators `&`, `|`, and `^` can also be used with booleans, but the logical operators `and`, `or`, and `!=` are preferred for clarity and readability.\n",
        "\n",
        "Here are some examples demonstrating the usage of booleans and logical operators:"
      ]
    },
    {
      "cell_type": "code",
      "source": [
        "# Boolean variables\n",
        "is_python_fun = True\n",
        "is_java_fun = False\n",
        "\n",
        "# Using boolean variables in conditional statements\n",
        "if is_python_fun and not is_java_fun:\n",
        "    print(\"Python is fun!\")  # This will be printed\n",
        "\n",
        "# Logical operations\n",
        "result = True or False  # result is True\n",
        "result2 = not False     # result2 is True"
      ],
      "metadata": {
        "id": "DakxcwBeqJuD"
      },
      "id": "DakxcwBeqJuD",
      "execution_count": null,
      "outputs": []
    },
    {
      "cell_type": "markdown",
      "id": "feb2cc12",
      "metadata": {
        "id": "feb2cc12"
      },
      "source": [
        "## Casting\n",
        "Casting in Python means changing the type of a variable to another type. This is done using special functions provided by Python.\n",
        "\n",
        "Let's break it down:\n",
        "\n",
        "- `int()`: Converts a value to an integer. It can convert an integer or float literal directly, or even a string representing a whole number.\n",
        "- `float()`: Converts a value to a float. It can handle integer or float literals directly, or a string representing a float or an integer.\n",
        "- `str()`: Converts a value to a string. It can handle various data types, including strings, integer literals, and float literals.\n",
        "\n",
        "**Example:**"
      ]
    },
    {
      "cell_type": "code",
      "source": [
        "# Casting to integer\n",
        "num_int = int(5.8)\n",
        "print(num_int)  # Output: 5\n",
        "\n",
        "# Casting to float\n",
        "num_float = float(\"7.2\")\n",
        "print(num_float)  # Output: 7.2\n",
        "\n",
        "# Casting to string\n",
        "text = str(42)\n",
        "print(text)  # Output: '42'"
      ],
      "metadata": {
        "id": "KVoEa0O6qPip"
      },
      "id": "KVoEa0O6qPip",
      "execution_count": null,
      "outputs": []
    },
    {
      "cell_type": "markdown",
      "id": "a21a7900",
      "metadata": {
        "id": "a21a7900"
      },
      "source": [
        "### None\n",
        "The `None` keyword is used to define a null value, or no value at all.  Often used to indicate that a variable has not been assigned a meaningful value or has been initialized with no value. Use the `is` keyword to check if a variable is `None`. `is not` checks if a variable is not `None`."
      ]
    },
    {
      "cell_type": "code",
      "source": [
        "# None Example\n",
        "x = None\n",
        "\n",
        "# Checking if a variable is None\n",
        "if x is None:\n",
        "    print(\"Variable x has no value.\")\n",
        "\n",
        "# Checking if a variable is not None\n",
        "if x is not None:\n",
        "    print(\"Variable x has a value.\")\n",
        "else:\n",
        "    print(\"Variable x does not have a value.\")"
      ],
      "metadata": {
        "id": "bMOB7Ds4qTas"
      },
      "id": "bMOB7Ds4qTas",
      "execution_count": null,
      "outputs": []
    },
    {
      "cell_type": "markdown",
      "id": "39efcb77",
      "metadata": {
        "id": "39efcb77"
      },
      "source": [
        "## Dates and Times\n",
        "The Python `datetime` module offers `datetime`, `date`, and `time` types. The `datetime` type combines `date` and `time` information.\n",
        "\n",
        "### Creating DateTime Objects\n",
        "DateTime objects are created using the `datetime` constructor, which takes year, month, day, hour, minute, and second as arguments."
      ]
    },
    {
      "cell_type": "code",
      "source": [
        "from datetime import datetime\n",
        "\n",
        "# Creating a datetime object\n",
        "dt = datetime(2011, 10, 29, 20, 30, 21)"
      ],
      "metadata": {
        "id": "13XudZhgqWsl"
      },
      "id": "13XudZhgqWsl",
      "execution_count": null,
      "outputs": []
    },
    {
      "cell_type": "markdown",
      "id": "7064c9d8",
      "metadata": {
        "id": "7064c9d8"
      },
      "source": [
        "### Extracting Date and Time Components\n",
        "You can extract date and time components from a DateTime object using the date() and time() methods, respectively."
      ]
    },
    {
      "cell_type": "code",
      "source": [
        "# Extracting date and time objects\n",
        "date_obj = dt.date()  # Get date object\n",
        "time_obj = dt.time()  # Get time object\n",
        "\n",
        "print(date_obj)  # Output: 2011-10-29\n",
        "print(time_obj)  # Output: 20:30:21"
      ],
      "metadata": {
        "id": "SRLrJ7jsqZLM"
      },
      "id": "SRLrJ7jsqZLM",
      "execution_count": null,
      "outputs": []
    },
    {
      "cell_type": "markdown",
      "id": "425683ff",
      "metadata": {
        "id": "425683ff"
      },
      "source": [
        "### Formatting DateTime as String\n",
        "The `strftime()` method formats a DateTime object as a string based on a specified format.\n",
        "\n",
        "```python\n",
        "# Formatting datetime as string\n",
        "formatted_dt = dt.strftime('%m/%d/%Y %H:%M')  # Convert datetime to string\n",
        "print(formatted_dt)  # Output: 10/29/2011 20:30"
      ]
    },
    {
      "cell_type": "markdown",
      "id": "ad814d06",
      "metadata": {
        "id": "ad814d06"
      },
      "source": [
        "### Parsing String into DateTime\n",
        "The `strptime()` function parses a string into a DateTime object based on a specified format.`"
      ]
    },
    {
      "cell_type": "code",
      "source": [
        "from datetime import datetime\n",
        "# Parsing string into datetime\n",
        "parsed_dt = datetime.strptime('20091031', '%Y%m%d')  # Convert string to datetime\n",
        "print(parsed_dt)  # Output: 2009-10-31 00:00:00"
      ],
      "metadata": {
        "id": "7PZ2CBt6qcHD"
      },
      "id": "7PZ2CBt6qcHD",
      "execution_count": null,
      "outputs": []
    },
    {
      "cell_type": "markdown",
      "id": "c69184c9",
      "metadata": {
        "id": "c69184c9"
      },
      "source": [
        "### Replacing Time Fields\n",
        "You can replace specific time fields of a DateTime object using the `replace()` method."
      ]
    },
    {
      "cell_type": "code",
      "source": [
        "# Replacing time fields\n",
        "new_dt = dt.replace(minute=0, second=0)  # Replace minute and second fields with zero\n",
        "print(new_dt)  # Output: 2011-10-29 20:00:21"
      ],
      "metadata": {
        "id": "_D3_OIrdqe3c"
      },
      "id": "_D3_OIrdqe3c",
      "execution_count": null,
      "outputs": []
    },
    {
      "cell_type": "markdown",
      "id": "d89442f3",
      "metadata": {
        "id": "d89442f3"
      },
      "source": [
        "### Calculating Time Differences\n",
        "The difference between two DateTime objects produces a `timedelta` object."
      ]
    },
    {
      "cell_type": "code",
      "source": [
        "from datetime import datetime\n",
        "# Calculating timedelta\n",
        "dt2 = datetime(2011, 11, 15, 22, 30)\n",
        "delta = dt2 - dt\n",
        "print(delta)  # Output: 17 days, 1:59:39"
      ],
      "metadata": {
        "id": "Bewp6g6zqhur"
      },
      "id": "Bewp6g6zqhur",
      "execution_count": null,
      "outputs": []
    },
    {
      "cell_type": "markdown",
      "id": "7d2c7455",
      "metadata": {
        "id": "7d2c7455"
      },
      "source": [
        "### Shifting DateTime\n",
        "Adding a timedelta to a DateTime object produces a new shifted DateTime."
      ]
    },
    {
      "cell_type": "code",
      "source": [
        "# Shifting datetime using timedelta\n",
        "shifted_dt = dt + delta\n",
        "print(shifted_dt)  # Output: 2011-11-15 22:30:00"
      ],
      "metadata": {
        "id": "uYPnZv3Oqj71"
      },
      "id": "uYPnZv3Oqj71",
      "execution_count": null,
      "outputs": []
    },
    {
      "cell_type": "code",
      "source": [],
      "metadata": {
        "id": "UEy_Q-kcRLJw"
      },
      "id": "UEy_Q-kcRLJw",
      "execution_count": null,
      "outputs": []
    },
    {
      "cell_type": "markdown",
      "source": [
        "# Assignments"
      ],
      "metadata": {
        "id": "N4j6hbYrRMlQ"
      },
      "id": "N4j6hbYrRMlQ"
    },
    {
      "cell_type": "markdown",
      "source": [
        "### Exercises to DateTime\n",
        "These exercises are designed to help you become familiar with working with dates and times in Python using the datetime module.\n",
        "\n",
        "**Task 1: Creating DateTime Objects**\n",
        "\n",
        "Write a Python program that prompts the user to input the year, month, day, hour, minute, and second, and then creates a DateTime object based on the provided information. Display the created DateTime object.\n",
        "\n",
        "Hints:\n",
        "- Utilize the `datetime` module for date and time operations.\n",
        "- Create DateTime objects using the `datetime()` constructor.\n",
        "- Format DateTime objects as strings with the `strftime()` method, and parse strings into DateTime objects using the `strptime()` function.\n"
      ],
      "metadata": {
        "id": "gQyu3f3RRKf5"
      },
      "id": "gQyu3f3RRKf5"
    },
    {
      "cell_type": "code",
      "source": [
        "# Enter your solution to Task 1 here\n",
        "from datetime import datetime\n",
        "\n",
        "# Prompt the user for input\n",
        "year = int(input(\"Enter year: \"))\n",
        "month = int(input(\"Enter month: \"))\n",
        "day = int(input(\"Enter day: \"))\n",
        "hour = int(input(\"Enter hour: \"))\n",
        "minute = int(input(\"Enter minute: \"))\n",
        "second = int(input(\"Enter second: \"))\n",
        "\n",
        "# Create a DateTime object\n",
        "datetime_object = datetime(year, month, day, hour, minute, second)\n",
        "\n",
        "# Display the DateTime object\n",
        "print(\"Created DateTime object:\", datetime_object)\n",
        "\n",
        "\n",
        "\n"
      ],
      "metadata": {
        "id": "PTpSlByYRSzB",
        "colab": {
          "base_uri": "https://localhost:8080/"
        },
        "outputId": "8c774976-aadc-453d-ff4b-99670e5ff856"
      },
      "id": "PTpSlByYRSzB",
      "execution_count": 2,
      "outputs": [
        {
          "output_type": "stream",
          "name": "stdout",
          "text": [
            "Enter year: 2004\n",
            "Enter month: 12\n",
            "Enter day: 5\n",
            "Enter hour: 5\n",
            "Enter minute: 8\n",
            "Enter second: 9\n",
            "Created DateTime object: 2004-12-05 05:08:09\n"
          ]
        }
      ]
    },
    {
      "cell_type": "markdown",
      "source": [
        "### Exercises to DateTime\n",
        "**Task 2: Extracting Date and Time Components**\n",
        "\n",
        "Enhance the previous program to extract individual date and time components (year, month, day, hour, minute, second) from the created DateTime object. Display each component separately."
      ],
      "metadata": {
        "id": "EE4OL-erRWdg"
      },
      "id": "EE4OL-erRWdg"
    },
    {
      "cell_type": "code",
      "source": [
        "# Enter your solution here\n",
        "\n",
        "from datetime import datetime\n",
        "\n",
        "# Prompt the user for input\n",
        "year = int(input(\"Enter year: \"))\n",
        "month = int(input(\"Enter month: \"))\n",
        "day = int(input(\"Enter day: \"))\n",
        "hour = int(input(\"Enter hour: \"))\n",
        "minute = int(input(\"Enter minute: \"))\n",
        "second = int(input(\"Enter second: \"))\n",
        "\n",
        "# Create a datetime object\n",
        "dt = datetime(year, month, day, hour, minute, second)\n",
        "\n",
        "# Extract and display individual components\n",
        "print(\"Year:\", dt.year)\n",
        "print(\"Month:\", dt.month)\n",
        "print(\"Day:\", dt.day)\n",
        "print(\"Hour:\", dt.hour)\n",
        "print(\"Minute:\", dt.minute)\n",
        "print(\"Second:\", dt.second)\n"
      ],
      "metadata": {
        "id": "DtpoCZd7RbLA"
      },
      "id": "DtpoCZd7RbLA",
      "execution_count": null,
      "outputs": []
    },
    {
      "cell_type": "markdown",
      "source": [
        "\n",
        "**Task 3: Formatting and Manipulating DateTime**\n",
        "\n",
        "Extend the program further to format the DateTime object as a string in a specific format. Allow the user to input a date/time string and parse it into a DateTime object. Implement functionality to replace specific time fields and calculate time differences between two DateTime objects.\n"
      ],
      "metadata": {
        "id": "YBks8vGpRef5"
      },
      "id": "YBks8vGpRef5"
    },
    {
      "cell_type": "code",
      "source": [
        "# Enter your solution here\n",
        "from datetime import datetime\n",
        "\n",
        "# Prompt the user for input\n",
        "year = int(input(\"Enter year: \"))\n",
        "month = int(input(\"Enter month: \"))\n",
        "day = int(input(\"Enter day: \"))\n",
        "hour = int(input(\"Enter hour: \"))\n",
        "minute = int(input(\"Enter minute: \"))\n",
        "second = int(input(\"Enter second: \"))\n",
        "\n",
        "# Create a datetime object\n",
        "dt = datetime(year, month, day, hour, minute, second)\n",
        "\n",
        "# Format the datetime object\n",
        "formatted_dt = dt.strftime(\"%Y-%m-%d %H:%M:%S\")\n",
        "print(\"Formatted datetime:\", formatted_dt)\n",
        "\n",
        "# Parse a datetime string\n",
        "date_string = input(\"Enter a date/time string (YYYY-MM-DD HH:MM:SS): \")\n",
        "parsed_dt = datetime.strptime(date_string, \"%Y-%m-%d %H:%M:%S\")\n",
        "print(\"Parsed datetime:\", parsed_dt)\n",
        "\n",
        "# Replace time fields\n",
        "new_hour = int(input(\"Enter new hour: \"))\n",
        "new_minute = int(input(\"Enter new minute: \"))\n",
        "new_dt = parsed_dt.replace(hour=new_hour, minute=new_minute)\n",
        "print(\"Datetime with replaced time fields:\", new_dt)\n",
        "\n",
        "# Calculate time difference\n",
        "another_date_string = input(\"Enter another date/time string (YYYY-MM-DD HH:MM:SS): \")\n",
        "another_dt = datetime.strptime(another_date_string, \"%Y-%m-%d %H:%M:%S\")\n",
        "time_difference = another_dt - parsed_dt\n",
        "print(\"Time difference:\", time_difference)\n",
        "\n"
      ],
      "metadata": {
        "id": "kUA-tA8VRfth"
      },
      "id": "kUA-tA8VRfth",
      "execution_count": null,
      "outputs": []
    },
    {
      "cell_type": "markdown",
      "id": "d74a8cbe-cfd9-4ecd-91dd-54de4222bcad",
      "metadata": {
        "id": "d74a8cbe-cfd9-4ecd-91dd-54de4222bcad"
      },
      "source": [
        "## Common Type Errors\n",
        "There are a couple of type errors frequently encountered during Python programming tasks. Understanding and addressing these errors is pivotal for writing robust and error-free code in Python."
      ]
    },
    {
      "cell_type": "markdown",
      "id": "a276277f-796a-4018-a053-ebfe25f9a218",
      "metadata": {
        "id": "a276277f-796a-4018-a053-ebfe25f9a218"
      },
      "source": [
        "**Error 1: Avoid passing strings to the len() function**\n",
        "\n",
        "In Python, the `len()` function returns the length of a string, but passing non-string data types can lead to errors. For example, attempting to pass an integer or float to the `len()` function will result in a `TypeError` because it expects a sequence or collection data type, such as strings or lists."
      ]
    },
    {
      "cell_type": "code",
      "source": [
        "string = \"my string\"\n",
        "print(len(string))  # Output: 9 (no error)\n",
        "\n",
        "# Attempting to pass an integer to len() will result in a TypeError\n",
        "integer_value = 123\n",
        "print(len(integer_value))  # This will lead to a TypeError\n",
        "\n",
        "# Attempting to pass a float to len() will also result in a TypeError\n",
        "float_value = 3.14\n",
        "print(len(float_value))  # This will also lead to a TypeError"
      ],
      "metadata": {
        "id": "4hDUQfa8qp8X"
      },
      "id": "4hDUQfa8qp8X",
      "execution_count": null,
      "outputs": []
    },
    {
      "cell_type": "markdown",
      "id": "213cd04d-f25a-4bc9-9c89-fbb8cb91acc3",
      "metadata": {
        "id": "213cd04d-f25a-4bc9-9c89-fbb8cb91acc3"
      },
      "source": [
        "**Error 2: Avoid Concatenation using Integer**\n",
        "\n",
        "Concatenating strings and integers directly can lead to errors. Python does not allow concatenation between different data types without conversion. Attempting to concatenate a string with an integer without converting the integer to a string first will result in a `TypeError`."
      ]
    },
    {
      "cell_type": "code",
      "source": [
        "num_char = len(input(\"What is your name?\"))\n",
        "print(\"Your name has \" + num_char + \" characters.\")  # This will lead to a TypeError"
      ],
      "metadata": {
        "id": "4bwWsv-XqtNP"
      },
      "id": "4bwWsv-XqtNP",
      "execution_count": null,
      "outputs": []
    },
    {
      "cell_type": "markdown",
      "id": "f2558b17",
      "metadata": {
        "id": "f2558b17"
      },
      "source": [
        "**Error 3: Incorrect Indentation**\n",
        "\n",
        "Python relies heavily on proper indentation to define code blocks. Incorrect indentation, such as mixing spaces and tabs or inconsistent indentation levels, can lead to syntax errors or unexpected behavior."
      ]
    },
    {
      "cell_type": "code",
      "source": [
        "if True:\n",
        "# print(\"Indented block\")  # Uncommenting this line wille lead to an IndentationError"
      ],
      "metadata": {
        "id": "8UrO5KJVqxe1"
      },
      "id": "8UrO5KJVqxe1",
      "execution_count": null,
      "outputs": []
    },
    {
      "cell_type": "markdown",
      "id": "b021e60a",
      "metadata": {
        "id": "b021e60a"
      },
      "source": [
        "**Error 4: Forgetting to Import Modules**\n",
        "\n",
        "Python offers a wide range of built-in functions and modules, but sometimes developers forget to import the required modules before using them. This results in `NameError` as Python cannot find the referenced function or module."
      ]
    },
    {
      "cell_type": "code",
      "source": [
        "# random_number = random.randint(1, 10)  # Uncommenting this line will lead to a NameError as the random module is not imported"
      ],
      "metadata": {
        "id": "w_MWYRqkq59Z"
      },
      "id": "w_MWYRqkq59Z",
      "execution_count": null,
      "outputs": []
    },
    {
      "cell_type": "markdown",
      "id": "13943b9e-4c56-4c8f-a703-4b27a74ddbc2",
      "metadata": {
        "id": "13943b9e-4c56-4c8f-a703-4b27a74ddbc2"
      },
      "source": [
        "## Type conversation\n",
        "Type conversion in Python refers to the process of converting one data type into another. This is often necessary when performing operations or passing arguments that expect a certain data type. Python provides **built-in functions** for performing type conversion, allowing you to convert data from one type to another seamlessly.\n",
        "\n",
        "**Converting integer to string using str() function**\n",
        "\n",
        "To concatenate an integer with a string, the integer must first be converted to a string using the `str()` function. This conversion allows the integer to be treated as a string, enabling successful concatenation with other strings."
      ]
    },
    {
      "cell_type": "code",
      "source": [
        "# Type conversion: Converting integer to string using str() function\n",
        "# num_char = len(input(\"What is your name?\")) # uncommenting this line leads to a Type conversion error\n",
        "# str_num_char = str(num_char)\n",
        "# print(\"Your name has \" + str_num_char + \" characters.\")  # This will work without error"
      ],
      "metadata": {
        "id": "wjMqeNK8rAOY"
      },
      "id": "wjMqeNK8rAOY",
      "execution_count": null,
      "outputs": []
    },
    {
      "cell_type": "markdown",
      "id": "b9122724-9ee6-4ed6-86df-67662db12ddf",
      "metadata": {
        "id": "b9122724-9ee6-4ed6-86df-67662db12ddf"
      },
      "source": [
        "**Converting String to Float using float() function**\n",
        "\n",
        "Similarly, converting a string to a float is essential when dealing with numeric data stored as strings. The `float()` function converts a string representation of a float into a floating-point number, allowing numeric operations to be performed on the converted value."
      ]
    },
    {
      "cell_type": "code",
      "source": [
        "# Type conversion: Converting string to float using float() function\n",
        "# float_num = float(\"100.5\") # uncommenting this line will lead to an error\n",
        "# print(float_num)  # Output: 100.5"
      ],
      "metadata": {
        "id": "pXdKpXSTrQA3"
      },
      "id": "pXdKpXSTrQA3",
      "execution_count": null,
      "outputs": []
    },
    {
      "cell_type": "markdown",
      "id": "6fbdfe9d-b2af-494e-9fc7-bf16f60ff5b8",
      "metadata": {
        "id": "6fbdfe9d-b2af-494e-9fc7-bf16f60ff5b8"
      },
      "source": [
        "**Quiz Typ Conversion:**\n",
        "\n",
        "What is the type of the following expressions:"
      ]
    },
    {
      "cell_type": "markdown",
      "id": "e7e58f70-270e-4b52-a701-635664500f60",
      "metadata": {
        "id": "e7e58f70-270e-4b52-a701-635664500f60"
      },
      "source": [
        "<pre>\n",
        "print(70 + float(\"100.5\")) # type is ??\n",
        "print(str(70) + str(100)) # type is ??\n",
        "</pre>"
      ]
    },
    {
      "cell_type": "markdown",
      "id": "31a83a82",
      "metadata": {
        "id": "31a83a82"
      },
      "source": [
        "## Mathematical Operations with Python\n",
        "\n",
        "Mathematical operations are fundamental in programming and are used extensively in data science for computations and analysis. Python provides built-in operators for performing various mathematical operations such as addition, subtraction, multiplication, division, and exponentiation.\n",
        "\n",
        "- Addition (`+`): Adds two numbers together.\n",
        "- Subtraction (`-`): Subtracts one number from another.\n",
        "- Multiplication (`*`): Multiplies two numbers together.\n",
        "- Division (`/`): Divides one number by another.\n",
        "- Exponentiation (`**`): Raises one number to the power of another.\n",
        "\n",
        "Example:"
      ]
    },
    {
      "cell_type": "code",
      "source": [
        "print(3 + 5)\n",
        "print(7 - 4)\n",
        "print(3 * 2)\n",
        "print(6/2)\n",
        "print(type(6/3))  # will automatically print float instead of integer\n",
        "print(2 ** 3) # 2 in the power of 3"
      ],
      "metadata": {
        "colab": {
          "base_uri": "https://localhost:8080/"
        },
        "id": "xxxfCTNYrafU",
        "outputId": "20c8d033-4cb6-4df2-f21b-19ecf3b310e5"
      },
      "id": "xxxfCTNYrafU",
      "execution_count": null,
      "outputs": [
        {
          "output_type": "stream",
          "name": "stdout",
          "text": [
            "8\n",
            "3\n",
            "6\n",
            "3.0\n",
            "<class 'float'>\n",
            "8\n"
          ]
        }
      ]
    },
    {
      "cell_type": "markdown",
      "id": "0c59c8d8",
      "metadata": {
        "id": "0c59c8d8"
      },
      "source": [
        "### Priority of Operations\n",
        "Mathematical expressions are evaluated based on the precedence of operators. The `PEMDAS` rule is commonly used to remember the order of operations:\n",
        "\n",
        "You can use the PEMDAS expression to remember the order of operations PEMDAS:\n",
        "- **P**arentheses `()`\n",
        "- **E**xponents `**`\n",
        "- **M**ultiplication `*`\n",
        "- **D**ivision `/`\n",
        "- **A**ddition `+`\n",
        "- **S**ubstraction `-`\n",
        "\n",
        "Example:"
      ]
    },
    {
      "cell_type": "code",
      "source": [
        "3 + 5 * 2 # corresponds to (3 + 5) * 2\n",
        "10 / 5 * 2 # corresponds to (10 / 5) * 2"
      ],
      "metadata": {
        "id": "zwATvJSKrrYl"
      },
      "id": "zwATvJSKrrYl",
      "execution_count": null,
      "outputs": []
    },
    {
      "cell_type": "markdown",
      "id": "d919ef1c",
      "metadata": {
        "id": "d919ef1c"
      },
      "source": [
        "## Number Manipulation Python\n",
        "\n",
        "Python provides several functions for manipulating numbers, including the `round()` function for rounding floating-point numbers and the `//` operator for floor division."
      ]
    },
    {
      "cell_type": "markdown",
      "id": "4146bba9",
      "metadata": {
        "id": "4146bba9"
      },
      "source": [
        "**Rounding with `round()`:**\n",
        "\n",
        "The `round()` function is used to round a floating-point number to the nearest integer or to a specified number of decimal places.\n",
        "\n",
        "Example:"
      ]
    },
    {
      "cell_type": "code",
      "source": [
        "print(8 / 3)          # Result: 2.6666666666666665\n",
        "print(round(8 / 3))   # Round to the next integer: 3\n",
        "print(round(2.666666, 2))  # Round to 2 decimal places: 2.67"
      ],
      "metadata": {
        "colab": {
          "base_uri": "https://localhost:8080/"
        },
        "id": "_l6NFG4Arux3",
        "outputId": "ce5f1f73-937f-43d7-d378-33b07acf19ef"
      },
      "id": "_l6NFG4Arux3",
      "execution_count": null,
      "outputs": [
        {
          "output_type": "stream",
          "name": "stdout",
          "text": [
            "2.6666666666666665\n",
            "3\n",
            "2.67\n"
          ]
        }
      ]
    },
    {
      "cell_type": "markdown",
      "id": "74c259ba",
      "metadata": {
        "id": "74c259ba"
      },
      "source": [
        "**Floor Division with `//`:**\n",
        "\n",
        "The `//` operator performs floor division, which divides two numbers and rounds down to the nearest integer.\n",
        "\n",
        "Example:"
      ]
    },
    {
      "cell_type": "code",
      "source": [
        "print(8 // 3)    # Floor division: 2"
      ],
      "metadata": {
        "id": "yS5XbbPpr3FZ"
      },
      "id": "yS5XbbPpr3FZ",
      "execution_count": null,
      "outputs": []
    },
    {
      "cell_type": "markdown",
      "id": "83404db7",
      "metadata": {
        "id": "83404db7"
      },
      "source": [
        "**Incrementing Variable:**\n",
        "\n",
        "In Python, you can use the `+=` operator to increment the value of a variable. Incrementation involves increasing the value of a variable by a specified amount.\n",
        "\n",
        "For example, if you have a variable score representing a player's score in a game, you might want to increase the score by 1 each time the player achieves something noteworthy.\n",
        "\n",
        "Here's an example of incrementation in Python:"
      ]
    },
    {
      "cell_type": "code",
      "source": [
        "score = 0   # Initialize the score variable\n",
        "score += 1  # Increment the score by 1\n",
        "print(score)  # Output: 1"
      ],
      "metadata": {
        "id": "p5Y_YCFsr6dC"
      },
      "id": "p5Y_YCFsr6dC",
      "execution_count": null,
      "outputs": []
    },
    {
      "cell_type": "markdown",
      "id": "76c41dc5",
      "metadata": {
        "id": "76c41dc5"
      },
      "source": [
        "### Using F-String\n",
        "F-Strings, short for \"formatted strings\", offer a concise way to combine strings and variables of different data types. They allow for direct incorporation of variable values into string literals without the need for explicit conversions.\n",
        "\n",
        "Example:"
      ]
    },
    {
      "cell_type": "code",
      "source": [
        "score = 0\n",
        "height = 1.8\n",
        "isWinning = True\n",
        "print(f\"Your score is {score}, your height is {height}, your are winning is {isWinning}\")"
      ],
      "metadata": {
        "id": "1tutF_9Tr-WH"
      },
      "id": "1tutF_9Tr-WH",
      "execution_count": null,
      "outputs": []
    },
    {
      "cell_type": "markdown",
      "id": "c0e25174",
      "metadata": {
        "id": "c0e25174"
      },
      "source": [
        "\n",
        "In this example, variables ``score``, ``height``, and ``isWinning`` hold different data types. F-Strings facilitate the creation of formatted strings by directly embedding variable values using ``{}`` placeholders. Upon execution of the ``print()`` function, Python substitutes the placeholders with the corresponding variable values, resulting in a clear and concise output."
      ]
    },
    {
      "cell_type": "markdown",
      "id": "a9b1ad13-92e6-4e07-9f32-fa56e2c0e8ff",
      "metadata": {
        "id": "a9b1ad13-92e6-4e07-9f32-fa56e2c0e8ff"
      },
      "source": [
        "### Coding Exercise 1: Type Conversion\n",
        "Write a program that adds the digits in a 2 digit number. e.g. if the input was 35, then the output should be 3 + 5 = 8\n",
        "\n",
        "**Pseudo Code:**"
      ]
    },
    {
      "cell_type": "code",
      "source": [
        "number = input(\"Enter a 2 digit number\")\n",
        "# 🚨 Don't change the code above 👆\n",
        "####################################\n",
        "# Write your code below this line 👇\n",
        "a = number[0]\n",
        "b = number[1]\n",
        "sum = int(a) + int(b)\n",
        "\n",
        "print(f\" {a} + {b} = {sum}\")"
      ],
      "metadata": {
        "id": "EsTd1wLvvcev",
        "colab": {
          "base_uri": "https://localhost:8080/"
        },
        "outputId": "6fd13241-6d7c-4ec5-b043-a8d18eedb87b"
      },
      "id": "EsTd1wLvvcev",
      "execution_count": 5,
      "outputs": [
        {
          "output_type": "stream",
          "name": "stdout",
          "text": [
            "Enter a 2 digit number77\n",
            " 7 + 7 = 14\n"
          ]
        }
      ]
    },
    {
      "cell_type": "markdown",
      "id": "5abdaedb",
      "metadata": {
        "id": "5abdaedb"
      },
      "source": [
        "### Coding Exercise 2 - Life in Weeks\n",
        "There is a book by Tim Urban \"**Your Life in Weeks**\" that helps us realise just how little time we actually have. Assuming 52 weeks in a year.\n",
        "\n",
        "Create a program using maths and `f`-Strings that tells us how many weeks we have left, if we live until 90 years old\n",
        "\n",
        "It will take your current age as the input and output a message with our time left in this forma`t:\n",
        "\n",
        "You have `x` weeks`\n",
        "left.\n",
        "Where `x` is replaced with the actual calculated number of weeks the input age has left until age 90.\n",
        "s the input age has left until age 90.\n",
        "\n",
        "<pre>\n",
        "Example Input:\n",
        "56\n",
        "\n",
        "Example Output:\n",
        "You have 1768 weeks left.\n",
        "</pre>\n",
        "\n",
        "**Pseudo Code:**"
      ]
    },
    {
      "cell_type": "code",
      "source": [
        "# Enter your solution here\n",
        "\n",
        "age = input(\"Enter your age: \\n\")\n",
        "# 🚨 Don't change the code above 👆\n",
        "# Write your code below this line 👇\n",
        "\n",
        "years_letfover = 90 - int(age)\n",
        "\n",
        "weeks_leftover = years_letfover * 52\n",
        "\n",
        "print(f\"You have {weeks_leftover} weeks left.\") # uncomment this line"
      ],
      "metadata": {
        "id": "pf-YDcJavfXd",
        "colab": {
          "base_uri": "https://localhost:8080/"
        },
        "outputId": "6113c110-3868-463b-857a-0c8ca22c9c39"
      },
      "id": "pf-YDcJavfXd",
      "execution_count": 6,
      "outputs": [
        {
          "output_type": "stream",
          "name": "stdout",
          "text": [
            "Enter your age: \n",
            "20\n",
            "You have 3640 weeks left.\n"
          ]
        }
      ]
    },
    {
      "cell_type": "markdown",
      "id": "a02d4de1-fd4d-4465-becf-47f3fcc738c2",
      "metadata": {
        "id": "a02d4de1-fd4d-4465-becf-47f3fcc738c2"
      },
      "source": [
        "## Coding Exercise 3: Tip Calculator\n",
        "\n",
        "Create a tip calculator program to determine the individual contribution each person should make after splitting the total bill, including tip, among a specified number of diners. The program should prompt the user for the total bill amount, desired tip percentage, and the number of people sharing the bill. Then, it should calculate and display the amount each person should contribute.\n",
        "\n",
        "Follow these steps to write the program:\n",
        "\n",
        "- Display the message: \"Welcome to the tip calculator!\"\n",
        "- Prompt the user: \"What was the total bill?\" (e.g., `$100`)\n",
        "- Prompt the user: \"How much tip would you like to give? 10, 12, or 15?\" (e.g., 12)\n",
        "- Prompt the user: \"How many people to split the bill?\" (e.g., 5)\n",
        "- Output: \"Each person should pay: $22.40\"\n",
        "\n",
        "**Pseudo Code:**"
      ]
    },
    {
      "cell_type": "code",
      "source": [
        "# If the bill was $150.00, split between 5 people, with a 12% tip:\n",
        "# Each person should pay (150.00 / 5) * 1.12 = 33.6\n",
        "# Format the result to 2 decimal places = 33.60\n",
        "\n",
        "# Tip: There are 2 ways to round a number. You might have to do some Googling to solve this.💪\n",
        "\n",
        "# Write your code below this line 👇\n",
        "\n",
        "print( \"Welcome to the tip calculator!\")\n",
        "\n",
        "bill_amount = int(input(\"What was the total bill?\"))\n",
        "\n",
        "tip = int(input(\"How much tip would you like to give? 10, 12, or 15?\"))\n",
        "\n",
        "number_of_people = int(input( \"How many people to split the bill?\"))\n",
        "\n",
        "bill_per_person = (bill_amount/number_of_people) * tip *0.01\n",
        "\n",
        "print(f\"Each person should pay: ${bill_per_person:.2f}\") # uncomment this line\n"
      ],
      "metadata": {
        "id": "x7za6D27sY41",
        "colab": {
          "base_uri": "https://localhost:8080/"
        },
        "outputId": "14658de3-862f-409e-be3d-20b7fe9b4048"
      },
      "id": "x7za6D27sY41",
      "execution_count": 7,
      "outputs": [
        {
          "output_type": "stream",
          "name": "stdout",
          "text": [
            "Welcome to the tip calculator!\n",
            "What was the total bill?150\n",
            "How much tip would you like to give? 10, 12, or 15?12\n",
            "How many people to split the bill?5\n",
            "Each person should pay: $3.60\n"
          ]
        }
      ]
    },
    {
      "cell_type": "markdown",
      "id": "f5497b7a-c214-41d4-b1f7-0b25a97ee315",
      "metadata": {
        "jp-MarkdownHeadingCollapsed": true,
        "id": "f5497b7a-c214-41d4-b1f7-0b25a97ee315"
      },
      "source": [
        "## Coding Exercise 4: Body Mass\n",
        "\n",
        "Write a program that calculates the Body Mass Index (BMI) from a user’s weight and height.\n",
        "\n",
        "BMI Wikipedia Page\n",
        "\n",
        "The BMI is a measure of someone’s weight taking into account their height. e.g. If a tall person and a short person both weigh the same amount, the short person is usually more overweight.\n",
        "\n",
        "The BMI is calculated by dividing a person’s weight (in kg) by the square of their height (in m):\n",
        "\n",
        "`BMI = weight/(height ** height)`\n",
        "\n",
        "**Pseudo Code:**"
      ]
    },
    {
      "cell_type": "code",
      "source": [
        "# Write your code below this line 👇\n",
        "# Step 1: Input height and weight from the user\n",
        "height = float(input(\"Enter your height in m: \"))\n",
        "weight = float(input(\"Enter your weight in kg: \"))\n",
        "# Step 2: Calculate BMI using the formula: weight / (height ** 2)\n",
        "bmi = weight / (height ** 2)\n",
        "# Step 3: Convert the BMI to a whole number using the round() function\n",
        "bmi = round(bmi)\n",
        "# Step 4: Print the BMI\n",
        "print(f\"Your Body Mass Index is : {bmi}\")\n"
      ],
      "metadata": {
        "id": "O_HHlDIesVDF",
        "colab": {
          "base_uri": "https://localhost:8080/"
        },
        "outputId": "55e981be-4fce-443a-83cc-a952257e673b"
      },
      "id": "O_HHlDIesVDF",
      "execution_count": 11,
      "outputs": [
        {
          "output_type": "stream",
          "name": "stdout",
          "text": [
            "Enter your height in m: 1.45\n",
            "Enter your weight in kg: 44.5\n",
            "Your Body Mass Index is : 21\n"
          ]
        }
      ]
    },
    {
      "cell_type": "code",
      "source": [],
      "metadata": {
        "id": "gcxJKsL6R2ND"
      },
      "id": "gcxJKsL6R2ND",
      "execution_count": null,
      "outputs": []
    }
  ],
  "metadata": {
    "kernelspec": {
      "display_name": "Python 3 (ipykernel)",
      "language": "python",
      "name": "python3"
    },
    "language_info": {
      "codemirror_mode": {
        "name": "ipython",
        "version": 3
      },
      "file_extension": ".py",
      "mimetype": "text/x-python",
      "name": "python",
      "nbconvert_exporter": "python",
      "pygments_lexer": "ipython3",
      "version": "3.11.7"
    },
    "colab": {
      "provenance": []
    }
  },
  "nbformat": 4,
  "nbformat_minor": 5
}